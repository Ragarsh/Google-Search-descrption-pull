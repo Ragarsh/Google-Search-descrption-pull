{
 "cells": [
  {
   "cell_type": "code",
   "execution_count": 1,
   "metadata": {
    "collapsed": false
   },
   "outputs": [],
   "source": [
    "import sys\n",
    "import time\n",
    "sys.path.append('/Applications/Data/anaconda/pkgs/requests-2.13.0-py27_0/lib/python2.7/site-packages')\n",
    "\n",
    "import requests\n",
    "from BeautifulSoup import BeautifulSoup\n",
    "Soup = BeautifulSoup\n",
    "import re\n",
    "import csv\n",
    "import pandas as pd\n",
    "import datetime\n",
    "import urllib2\n",
    "import time\n",
    "\n",
    "def google_scraper(search):\n",
    "    address=\"https://www.google.com/search?q=%s\" % (search)\n",
    "    r = requests.get(address)\n",
    "    resp = r.content\n",
    "    soup = BeautifulSoup(resp.decode('utf-8', 'ignore'))\n",
    "    \n",
    "    x = soup.findAll('span', attrs={'class':'st'})\n",
    "    y = x[:1]\n",
    "    return y\n",
    "\n",
    "#google_scraper(\"nytimes.com\")"
   ]
  },
  {
   "cell_type": "code",
   "execution_count": 2,
   "metadata": {
    "collapsed": false
   },
   "outputs": [],
   "source": [
    "Media_list = pd.read_excel('NFP-Tiers.xlsx')\n",
    "#Media_list['Outlet URL'][2]"
   ]
  },
  {
   "cell_type": "code",
   "execution_count": 141,
   "metadata": {
    "collapsed": false
   },
   "outputs": [],
   "source": [
    "url_desc = []\n",
    "\n",
    "for i in range (0,20):\n",
    "    url = Media_list['Outlet URL'][i]\n",
    "    desc = google_scraper(url)\n",
    "    desc_str = str(desc)\n",
    "    url_desc.append(desc_str)\n",
    "    if i%10 == 0:\n",
    "        time.sleep(60)"
   ]
  },
  {
   "cell_type": "code",
   "execution_count": 164,
   "metadata": {
    "collapsed": false,
    "scrolled": true
   },
   "outputs": [
    {
     "data": {
      "text/html": [
       "<div>\n",
       "<table border=\"1\" class=\"dataframe\">\n",
       "  <thead>\n",
       "    <tr style=\"text-align: right;\">\n",
       "      <th></th>\n",
       "      <th>0</th>\n",
       "    </tr>\n",
       "  </thead>\n",
       "  <tbody>\n",
       "    <tr>\n",
       "      <th>0</th>\n",
       "      <td>[&lt;span class=\"st\"&gt;Canadian Underwriter. Subscr...</td>\n",
       "    </tr>\n",
       "    <tr>\n",
       "      <th>1</th>\n",
       "      <td>[&lt;span class=\"st\"&gt;Breaking news and analysis f...</td>\n",
       "    </tr>\n",
       "    <tr>\n",
       "      <th>2</th>\n",
       "      <td>[&lt;span class=\"st\"&gt;&lt;b&gt;Esquire&lt;/b&gt; is your desti...</td>\n",
       "    </tr>\n",
       "    <tr>\n",
       "      <th>3</th>\n",
       "      <td>[&lt;span class=\"st\"&gt;View the latest news and bre...</td>\n",
       "    </tr>\n",
       "    <tr>\n",
       "      <th>4</th>\n",
       "      <td>[&lt;span class=\"st\"&gt;&lt;b&gt;Insurance Journal&lt;/b&gt; del...</td>\n",
       "    </tr>\n",
       "    <tr>\n",
       "      <th>5</th>\n",
       "      <td>[&lt;span class=\"st\"&gt;Harvard Business Review. Go ...</td>\n",
       "    </tr>\n",
       "    <tr>\n",
       "      <th>6</th>\n",
       "      <td>[&lt;span class=\"st\"&gt;USA TODAY delivers current l...</td>\n",
       "    </tr>\n",
       "    <tr>\n",
       "      <th>7</th>\n",
       "      <td>[&lt;span class=\"st\"&gt;News, email and search are j...</td>\n",
       "    </tr>\n",
       "    <tr>\n",
       "      <th>8</th>\n",
       "      <td>[&lt;span class=\"st\"&gt;&lt;b&gt;PropertyCasualty360&lt;/b&gt; i...</td>\n",
       "    </tr>\n",
       "    <tr>\n",
       "      <th>9</th>\n",
       "      <td>[&lt;span class=\"st\"&gt;&lt;b&gt;Fortune&lt;/b&gt; 500 Daily &amp;am...</td>\n",
       "    </tr>\n",
       "    <tr>\n",
       "      <th>10</th>\n",
       "      <td>[&lt;span class=\"st\"&gt;&lt;b&gt;MarketWatch&lt;/b&gt; provides ...</td>\n",
       "    </tr>\n",
       "    <tr>\n",
       "      <th>11</th>\n",
       "      <td>[&lt;span class=\"st\"&gt;The New York Times: Find bre...</td>\n",
       "    </tr>\n",
       "    <tr>\n",
       "      <th>12</th>\n",
       "      <td>[&lt;span class=\"st\"&gt;&lt;b&gt;Business Insurance&lt;/b&gt; se...</td>\n",
       "    </tr>\n",
       "    <tr>\n",
       "      <th>13</th>\n",
       "      <td>[&lt;span class=\"st\"&gt;Breaking news and analysis o...</td>\n",
       "    </tr>\n",
       "    <tr>\n",
       "      <th>14</th>\n",
       "      <td>[&lt;span class=\"st\"&gt;Workplace benefit news for a...</td>\n",
       "    </tr>\n",
       "    <tr>\n",
       "      <th>15</th>\n",
       "      <td>[&lt;span class=\"st\"&gt;Advice, insight, profiles an...</td>\n",
       "    </tr>\n",
       "    <tr>\n",
       "      <th>16</th>\n",
       "      <td>[&lt;span class=\"st\"&gt;&lt;b&gt;VentureBeat&lt;/b&gt; is the le...</td>\n",
       "    </tr>\n",
       "    <tr>\n",
       "      <th>17</th>\n",
       "      <td>[&lt;span class=\"st\"&gt;Workplace &lt;b&gt;benefit news&lt;/b...</td>\n",
       "    </tr>\n",
       "    <tr>\n",
       "      <th>18</th>\n",
       "      <td>[&lt;span class=\"st\"&gt;&lt;b&gt;WSJ&lt;/b&gt; online coverage o...</td>\n",
       "    </tr>\n",
       "    <tr>\n",
       "      <th>19</th>\n",
       "      <td>[&lt;span class=\"st\"&gt;&lt;b&gt;Bloomberg&lt;/b&gt; delivers bu...</td>\n",
       "    </tr>\n",
       "  </tbody>\n",
       "</table>\n",
       "</div>"
      ],
      "text/plain": [
       "                                                    0\n",
       "0   [<span class=\"st\">Canadian Underwriter. Subscr...\n",
       "1   [<span class=\"st\">Breaking news and analysis f...\n",
       "2   [<span class=\"st\"><b>Esquire</b> is your desti...\n",
       "3   [<span class=\"st\">View the latest news and bre...\n",
       "4   [<span class=\"st\"><b>Insurance Journal</b> del...\n",
       "5   [<span class=\"st\">Harvard Business Review. Go ...\n",
       "6   [<span class=\"st\">USA TODAY delivers current l...\n",
       "7   [<span class=\"st\">News, email and search are j...\n",
       "8   [<span class=\"st\"><b>PropertyCasualty360</b> i...\n",
       "9   [<span class=\"st\"><b>Fortune</b> 500 Daily &am...\n",
       "10  [<span class=\"st\"><b>MarketWatch</b> provides ...\n",
       "11  [<span class=\"st\">The New York Times: Find bre...\n",
       "12  [<span class=\"st\"><b>Business Insurance</b> se...\n",
       "13  [<span class=\"st\">Breaking news and analysis o...\n",
       "14  [<span class=\"st\">Workplace benefit news for a...\n",
       "15  [<span class=\"st\">Advice, insight, profiles an...\n",
       "16  [<span class=\"st\"><b>VentureBeat</b> is the le...\n",
       "17  [<span class=\"st\">Workplace <b>benefit news</b...\n",
       "18  [<span class=\"st\"><b>WSJ</b> online coverage o...\n",
       "19  [<span class=\"st\"><b>Bloomberg</b> delivers bu..."
      ]
     },
     "execution_count": 164,
     "metadata": {},
     "output_type": "execute_result"
    }
   ],
   "source": [
    "des1 = []\n",
    "Descript = pd.DataFrame()\n",
    "df = Descript.append(url_desc)\n",
    "a = df\n",
    "b =str(a)\n",
    "des = b.split()\n",
    "#mystring = df[0][0]\n",
    "#mystring.split()\n",
    "df"
   ]
  },
  {
   "cell_type": "code",
   "execution_count": 165,
   "metadata": {
    "collapsed": false,
    "scrolled": true
   },
   "outputs": [
    {
     "name": "stdout",
     "output_type": "stream",
     "text": [
      "no success\n"
     ]
    }
   ],
   "source": [
    "#word find trial\n",
    "if \"zaxby\" in mystring:\n",
    "    print 'success'\n",
    "else: print 'no success'  "
   ]
  },
  {
   "cell_type": "code",
   "execution_count": 166,
   "metadata": {
    "collapsed": false
   },
   "outputs": [
    {
     "data": {
      "text/plain": [
       "publication type     latest\n",
       "category            General\n",
       "Name: 1, dtype: object"
      ]
     },
     "execution_count": 166,
     "metadata": {},
     "output_type": "execute_result"
    }
   ],
   "source": [
    "pubs = []\n",
    "pub_type = pd.read_excel('pub_type.xlsx')\n",
    "pub_df = pd.DataFrame(pub_type)\n",
    "pubs.append(pub_type)\n",
    "#pub_type.iloc[0]\n",
    "pub_type.loc[1]"
   ]
  },
  {
   "cell_type": "code",
   "execution_count": 167,
   "metadata": {
    "collapsed": false
   },
   "outputs": [
    {
     "name": "stdout",
     "output_type": "stream",
     "text": [
      "success\n"
     ]
    }
   ],
   "source": [
    "if pub_type.iloc[0][0] in url_desc[1]:\n",
    "    print 'success'\n",
    "else: print'no success' "
   ]
  },
  {
   "cell_type": "code",
   "execution_count": 169,
   "metadata": {
    "collapsed": false
   },
   "outputs": [
    {
     "name": "stdout",
     "output_type": "stream",
     "text": [
      "latest\n",
      "latest\n",
      "latest\n",
      "Insurance\n",
      "Business\n",
      "Property \n"
     ]
    }
   ],
   "source": [
    "for i in range(1,9):\n",
    "    for j in range(0,9):\n",
    "        if pub_type.iloc[i][0] in url_desc[j]:\n",
    "            print pub_type.iloc[i][0]\n",
    "            #break\n",
    "            #else: print \"false\""
   ]
  },
  {
   "cell_type": "code",
   "execution_count": 48,
   "metadata": {
    "collapsed": false
   },
   "outputs": [
    {
     "data": {
      "text/plain": [
       "'General'"
      ]
     },
     "execution_count": 48,
     "metadata": {},
     "output_type": "execute_result"
    }
   ],
   "source": [
    "#tuples\n",
    "pub_types1 = {('Breaking', 'Latest') : 'General', ('Finance', 'Financial', 'Business'):'Finance', \n",
    "              ('Insurance','Property', 'Brokerage', 'Underwriter'):'Insurance', ('Technology', 'Tech'):'Technology'}\n",
    "#pub_types2 = zip(pub_ty\n",
    "next(v for k, v in pub_types1.items() if 'Breaking' in k)"
   ]
  },
  {
   "cell_type": "code",
   "execution_count": null,
   "metadata": {
    "collapsed": true
   },
   "outputs": [],
   "source": []
  }
 ],
 "metadata": {
  "kernelspec": {
   "display_name": "Python 2",
   "language": "python",
   "name": "python2"
  },
  "language_info": {
   "codemirror_mode": {
    "name": "ipython",
    "version": 2
   },
   "file_extension": ".py",
   "mimetype": "text/x-python",
   "name": "python",
   "nbconvert_exporter": "python",
   "pygments_lexer": "ipython2",
   "version": "2.7.13"
  }
 },
 "nbformat": 4,
 "nbformat_minor": 2
}
